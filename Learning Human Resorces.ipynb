{
 "cells": [
  {
   "cell_type": "code",
   "execution_count": 80,
   "metadata": {},
   "outputs": [],
   "source": [
    "#Learning\n",
    "from sklearn.metrics import accuracy_score\n",
    "from sklearn.metrics import f1_score\n",
    "from sklearn.tree import DecisionTreeClassifier\n",
    "from sklearn.linear_model import LogisticRegression\n",
    "from sklearn.ensemble import RandomForestClassifier\n",
    "from sklearn.metrics import recall_score\n",
    "from sklearn.metrics import precision_score\n",
    "from sklearn.model_selection import train_test_split\n",
    "from imblearn.over_sampling import SMOTE\n",
    "from sklearn.preprocessing import RobustScaler\n",
    "import seaborn as sea\n",
    "from sklearn.model_selection import cross_val_score\n",
    "from sklearn.model_selection import cross_val_predict"
   ]
  },
  {
   "cell_type": "code",
   "execution_count": 85,
   "metadata": {
    "collapsed": true
   },
   "outputs": [],
   "source": [
    "import pandas as pd\n",
    "import numpy as np\n",
    "import matplotlib.pyplot as plt\n",
    "%matplotlib inline\n",
    "import seaborn as sea"
   ]
  },
  {
   "cell_type": "code",
   "execution_count": 7,
   "metadata": {},
   "outputs": [
    {
     "data": {
      "text/html": [
       "<div>\n",
       "<style>\n",
       "    .dataframe thead tr:only-child th {\n",
       "        text-align: right;\n",
       "    }\n",
       "\n",
       "    .dataframe thead th {\n",
       "        text-align: left;\n",
       "    }\n",
       "\n",
       "    .dataframe tbody tr th {\n",
       "        vertical-align: top;\n",
       "    }\n",
       "</style>\n",
       "<table border=\"1\" class=\"dataframe\">\n",
       "  <thead>\n",
       "    <tr style=\"text-align: right;\">\n",
       "      <th></th>\n",
       "      <th>satisfaction_level</th>\n",
       "      <th>last_evaluation</th>\n",
       "      <th>number_project</th>\n",
       "      <th>average_montly_hours</th>\n",
       "      <th>time_spend_company</th>\n",
       "      <th>Work_accident</th>\n",
       "      <th>left</th>\n",
       "      <th>promotion_last_5years</th>\n",
       "      <th>sales</th>\n",
       "      <th>salary</th>\n",
       "    </tr>\n",
       "  </thead>\n",
       "  <tbody>\n",
       "    <tr>\n",
       "      <th>0</th>\n",
       "      <td>0.38</td>\n",
       "      <td>0.53</td>\n",
       "      <td>2</td>\n",
       "      <td>157</td>\n",
       "      <td>3</td>\n",
       "      <td>0</td>\n",
       "      <td>1</td>\n",
       "      <td>0</td>\n",
       "      <td>sales</td>\n",
       "      <td>low</td>\n",
       "    </tr>\n",
       "    <tr>\n",
       "      <th>1</th>\n",
       "      <td>0.80</td>\n",
       "      <td>0.86</td>\n",
       "      <td>5</td>\n",
       "      <td>262</td>\n",
       "      <td>6</td>\n",
       "      <td>0</td>\n",
       "      <td>1</td>\n",
       "      <td>0</td>\n",
       "      <td>sales</td>\n",
       "      <td>medium</td>\n",
       "    </tr>\n",
       "    <tr>\n",
       "      <th>2</th>\n",
       "      <td>0.11</td>\n",
       "      <td>0.88</td>\n",
       "      <td>7</td>\n",
       "      <td>272</td>\n",
       "      <td>4</td>\n",
       "      <td>0</td>\n",
       "      <td>1</td>\n",
       "      <td>0</td>\n",
       "      <td>sales</td>\n",
       "      <td>medium</td>\n",
       "    </tr>\n",
       "    <tr>\n",
       "      <th>3</th>\n",
       "      <td>0.72</td>\n",
       "      <td>0.87</td>\n",
       "      <td>5</td>\n",
       "      <td>223</td>\n",
       "      <td>5</td>\n",
       "      <td>0</td>\n",
       "      <td>1</td>\n",
       "      <td>0</td>\n",
       "      <td>sales</td>\n",
       "      <td>low</td>\n",
       "    </tr>\n",
       "    <tr>\n",
       "      <th>4</th>\n",
       "      <td>0.37</td>\n",
       "      <td>0.52</td>\n",
       "      <td>2</td>\n",
       "      <td>159</td>\n",
       "      <td>3</td>\n",
       "      <td>0</td>\n",
       "      <td>1</td>\n",
       "      <td>0</td>\n",
       "      <td>sales</td>\n",
       "      <td>low</td>\n",
       "    </tr>\n",
       "  </tbody>\n",
       "</table>\n",
       "</div>"
      ],
      "text/plain": [
       "   satisfaction_level  last_evaluation  number_project  average_montly_hours  \\\n",
       "0                0.38             0.53               2                   157   \n",
       "1                0.80             0.86               5                   262   \n",
       "2                0.11             0.88               7                   272   \n",
       "3                0.72             0.87               5                   223   \n",
       "4                0.37             0.52               2                   159   \n",
       "\n",
       "   time_spend_company  Work_accident  left  promotion_last_5years  sales  \\\n",
       "0                   3              0     1                      0  sales   \n",
       "1                   6              0     1                      0  sales   \n",
       "2                   4              0     1                      0  sales   \n",
       "3                   5              0     1                      0  sales   \n",
       "4                   3              0     1                      0  sales   \n",
       "\n",
       "   salary  \n",
       "0     low  \n",
       "1  medium  \n",
       "2  medium  \n",
       "3     low  \n",
       "4     low  "
      ]
     },
     "execution_count": 7,
     "metadata": {},
     "output_type": "execute_result"
    }
   ],
   "source": [
    "data=pd.read_csv(\"HR_comma_sep.csv\")\n",
    "data.head()"
   ]
  },
  {
   "cell_type": "code",
   "execution_count": 36,
   "metadata": {},
   "outputs": [
    {
     "ename": "TypeError",
     "evalue": "lmplot() missing 1 required positional argument: 'x'",
     "output_type": "error",
     "traceback": [
      "\u001b[1;31m---------------------------------------------------------------------------\u001b[0m",
      "\u001b[1;31mTypeError\u001b[0m                                 Traceback (most recent call last)",
      "\u001b[1;32m<ipython-input-36-b905d04615fd>\u001b[0m in \u001b[0;36m<module>\u001b[1;34m()\u001b[0m\n\u001b[1;32m----> 1\u001b[1;33m \u001b[0mg\u001b[0m\u001b[1;33m=\u001b[0m\u001b[0msea\u001b[0m\u001b[1;33m.\u001b[0m\u001b[0mlmplot\u001b[0m\u001b[1;33m(\u001b[0m\u001b[0my\u001b[0m\u001b[1;33m=\u001b[0m\u001b[1;34m\"Employees\"\u001b[0m\u001b[1;33m,\u001b[0m\u001b[0mdata\u001b[0m\u001b[1;33m=\u001b[0m\u001b[0mdata\u001b[0m\u001b[1;33m)\u001b[0m\u001b[1;33m\u001b[0m\u001b[0m\n\u001b[0m",
      "\u001b[1;31mTypeError\u001b[0m: lmplot() missing 1 required positional argument: 'x'"
     ]
    }
   ],
   "source": [
    "g=sea.lmplot(y=\"Employees\",data=data)"
   ]
  },
  {
   "cell_type": "code",
   "execution_count": 11,
   "metadata": {},
   "outputs": [
    {
     "data": {
      "text/html": [
       "<div>\n",
       "<style>\n",
       "    .dataframe thead tr:only-child th {\n",
       "        text-align: right;\n",
       "    }\n",
       "\n",
       "    .dataframe thead th {\n",
       "        text-align: left;\n",
       "    }\n",
       "\n",
       "    .dataframe tbody tr th {\n",
       "        vertical-align: top;\n",
       "    }\n",
       "</style>\n",
       "<table border=\"1\" class=\"dataframe\">\n",
       "  <thead>\n",
       "    <tr style=\"text-align: right;\">\n",
       "      <th></th>\n",
       "      <th>satisfaction_level</th>\n",
       "      <th>last_evaluation</th>\n",
       "      <th>number_project</th>\n",
       "      <th>average_montly_hours</th>\n",
       "      <th>time_spend_company</th>\n",
       "      <th>Work_accident</th>\n",
       "      <th>promotion_last_5years</th>\n",
       "      <th>sales_IT</th>\n",
       "      <th>sales_RandD</th>\n",
       "      <th>sales_accounting</th>\n",
       "      <th>sales_hr</th>\n",
       "      <th>sales_management</th>\n",
       "      <th>sales_marketing</th>\n",
       "      <th>sales_product_mng</th>\n",
       "      <th>sales_sales</th>\n",
       "      <th>sales_support</th>\n",
       "      <th>sales_technical</th>\n",
       "      <th>salary_high</th>\n",
       "      <th>salary_low</th>\n",
       "      <th>salary_medium</th>\n",
       "    </tr>\n",
       "  </thead>\n",
       "  <tbody>\n",
       "    <tr>\n",
       "      <th>0</th>\n",
       "      <td>0.38</td>\n",
       "      <td>0.53</td>\n",
       "      <td>2</td>\n",
       "      <td>157</td>\n",
       "      <td>3</td>\n",
       "      <td>0</td>\n",
       "      <td>0</td>\n",
       "      <td>0</td>\n",
       "      <td>0</td>\n",
       "      <td>0</td>\n",
       "      <td>0</td>\n",
       "      <td>0</td>\n",
       "      <td>0</td>\n",
       "      <td>0</td>\n",
       "      <td>1</td>\n",
       "      <td>0</td>\n",
       "      <td>0</td>\n",
       "      <td>0</td>\n",
       "      <td>1</td>\n",
       "      <td>0</td>\n",
       "    </tr>\n",
       "    <tr>\n",
       "      <th>1</th>\n",
       "      <td>0.80</td>\n",
       "      <td>0.86</td>\n",
       "      <td>5</td>\n",
       "      <td>262</td>\n",
       "      <td>6</td>\n",
       "      <td>0</td>\n",
       "      <td>0</td>\n",
       "      <td>0</td>\n",
       "      <td>0</td>\n",
       "      <td>0</td>\n",
       "      <td>0</td>\n",
       "      <td>0</td>\n",
       "      <td>0</td>\n",
       "      <td>0</td>\n",
       "      <td>1</td>\n",
       "      <td>0</td>\n",
       "      <td>0</td>\n",
       "      <td>0</td>\n",
       "      <td>0</td>\n",
       "      <td>1</td>\n",
       "    </tr>\n",
       "    <tr>\n",
       "      <th>2</th>\n",
       "      <td>0.11</td>\n",
       "      <td>0.88</td>\n",
       "      <td>7</td>\n",
       "      <td>272</td>\n",
       "      <td>4</td>\n",
       "      <td>0</td>\n",
       "      <td>0</td>\n",
       "      <td>0</td>\n",
       "      <td>0</td>\n",
       "      <td>0</td>\n",
       "      <td>0</td>\n",
       "      <td>0</td>\n",
       "      <td>0</td>\n",
       "      <td>0</td>\n",
       "      <td>1</td>\n",
       "      <td>0</td>\n",
       "      <td>0</td>\n",
       "      <td>0</td>\n",
       "      <td>0</td>\n",
       "      <td>1</td>\n",
       "    </tr>\n",
       "    <tr>\n",
       "      <th>3</th>\n",
       "      <td>0.72</td>\n",
       "      <td>0.87</td>\n",
       "      <td>5</td>\n",
       "      <td>223</td>\n",
       "      <td>5</td>\n",
       "      <td>0</td>\n",
       "      <td>0</td>\n",
       "      <td>0</td>\n",
       "      <td>0</td>\n",
       "      <td>0</td>\n",
       "      <td>0</td>\n",
       "      <td>0</td>\n",
       "      <td>0</td>\n",
       "      <td>0</td>\n",
       "      <td>1</td>\n",
       "      <td>0</td>\n",
       "      <td>0</td>\n",
       "      <td>0</td>\n",
       "      <td>1</td>\n",
       "      <td>0</td>\n",
       "    </tr>\n",
       "    <tr>\n",
       "      <th>4</th>\n",
       "      <td>0.37</td>\n",
       "      <td>0.52</td>\n",
       "      <td>2</td>\n",
       "      <td>159</td>\n",
       "      <td>3</td>\n",
       "      <td>0</td>\n",
       "      <td>0</td>\n",
       "      <td>0</td>\n",
       "      <td>0</td>\n",
       "      <td>0</td>\n",
       "      <td>0</td>\n",
       "      <td>0</td>\n",
       "      <td>0</td>\n",
       "      <td>0</td>\n",
       "      <td>1</td>\n",
       "      <td>0</td>\n",
       "      <td>0</td>\n",
       "      <td>0</td>\n",
       "      <td>1</td>\n",
       "      <td>0</td>\n",
       "    </tr>\n",
       "  </tbody>\n",
       "</table>\n",
       "</div>"
      ],
      "text/plain": [
       "   satisfaction_level  last_evaluation  number_project  average_montly_hours  \\\n",
       "0                0.38             0.53               2                   157   \n",
       "1                0.80             0.86               5                   262   \n",
       "2                0.11             0.88               7                   272   \n",
       "3                0.72             0.87               5                   223   \n",
       "4                0.37             0.52               2                   159   \n",
       "\n",
       "   time_spend_company  Work_accident  promotion_last_5years  sales_IT  \\\n",
       "0                   3              0                      0         0   \n",
       "1                   6              0                      0         0   \n",
       "2                   4              0                      0         0   \n",
       "3                   5              0                      0         0   \n",
       "4                   3              0                      0         0   \n",
       "\n",
       "   sales_RandD  sales_accounting  sales_hr  sales_management  sales_marketing  \\\n",
       "0            0                 0         0                 0                0   \n",
       "1            0                 0         0                 0                0   \n",
       "2            0                 0         0                 0                0   \n",
       "3            0                 0         0                 0                0   \n",
       "4            0                 0         0                 0                0   \n",
       "\n",
       "   sales_product_mng  sales_sales  sales_support  sales_technical  \\\n",
       "0                  0            1              0                0   \n",
       "1                  0            1              0                0   \n",
       "2                  0            1              0                0   \n",
       "3                  0            1              0                0   \n",
       "4                  0            1              0                0   \n",
       "\n",
       "   salary_high  salary_low  salary_medium  \n",
       "0            0           1              0  \n",
       "1            0           0              1  \n",
       "2            0           0              1  \n",
       "3            0           1              0  \n",
       "4            0           1              0  "
      ]
     },
     "execution_count": 11,
     "metadata": {},
     "output_type": "execute_result"
    }
   ],
   "source": [
    "features=data.drop(labels=['left'],axis=1)\n",
    "features=pd.get_dummies(features)\n",
    "features.head()"
   ]
  },
  {
   "cell_type": "code",
   "execution_count": 12,
   "metadata": {},
   "outputs": [
    {
     "data": {
      "text/plain": [
       "0    1\n",
       "1    1\n",
       "2    1\n",
       "3    1\n",
       "4    1\n",
       "Name: left, dtype: int64"
      ]
     },
     "execution_count": 12,
     "metadata": {},
     "output_type": "execute_result"
    }
   ],
   "source": [
    "target=data['left']\n",
    "target.head()"
   ]
  },
  {
   "cell_type": "code",
   "execution_count": 18,
   "metadata": {
    "scrolled": true
   },
   "outputs": [
    {
     "name": "stdout",
     "output_type": "stream",
     "text": [
      "Total number of records: 14999\n",
      "Total number of people who left before over-sampling: 3571\n",
      "Total number of people who stayed before over_sampling: 11428\n"
     ]
    }
   ],
   "source": [
    "n_records=target.shape[0]\n",
    "from collections import Counter\n",
    "n_left=sum(Counter([x for x in target if x==1]).values())\n",
    "print(\"Total number of records: \"+str(n_records))\n",
    "print(\"Total number of people who left before over-sampling: \"+str(n_left))\n",
    "print(\"Total number of people who stayed before over_sampling: \"+str(n_records-n_left))"
   ]
  },
  {
   "cell_type": "code",
   "execution_count": 38,
   "metadata": {
    "collapsed": true
   },
   "outputs": [],
   "source": [
    "rb=RobustScaler()\n",
    "features=rb.fit_transform(features)"
   ]
  },
  {
   "cell_type": "code",
   "execution_count": 39,
   "metadata": {},
   "outputs": [
    {
     "name": "stdout",
     "output_type": "stream",
     "text": [
      "11999\n"
     ]
    }
   ],
   "source": [
    "#splitting into training and testing\n",
    "training_features,testing_features,training_target,testing_target=train_test_split(features,target,random_state=10,test_size=.2)\n",
    "training_records=training_target.shape[0]\n",
    "print(training_records)"
   ]
  },
  {
   "cell_type": "code",
   "execution_count": 40,
   "metadata": {},
   "outputs": [
    {
     "name": "stderr",
     "output_type": "stream",
     "text": [
      "C:\\Users\\Siddharth\\Anaconda3\\lib\\site-packages\\sklearn\\utils\\deprecation.py:75: DeprecationWarning: Function _ratio_float is deprecated; Use a float for 'ratio' is deprecated from version 0.2. The support will be removed in 0.4. Use a dict, str, or a callable instead.\n",
      "  warnings.warn(msg, category=DeprecationWarning)\n"
     ]
    },
    {
     "name": "stdout",
     "output_type": "stream",
     "text": [
      "18324\n"
     ]
    }
   ],
   "source": [
    "sm=SMOTE(random_state=10,ratio=1.0)\n",
    "training_features_sm,training_target_sm=sm.fit_sample(training_features,training_target)\n",
    "print(training_features_sm.shape[0])"
   ]
  },
  {
   "cell_type": "code",
   "execution_count": 41,
   "metadata": {},
   "outputs": [
    {
     "name": "stdout",
     "output_type": "stream",
     "text": [
      "Total number of records: 18324\n",
      "Total number of people who left before over-sampling: 9162\n",
      "Total number of people who stayed before over_sampling: 9162\n"
     ]
    }
   ],
   "source": [
    "training_records_sm=training_target_sm.shape[0]\n",
    "from collections import Counter\n",
    "n_left_sm=sum(Counter([x for x in training_target_sm if x==1]).values())\n",
    "print(\"Total number of records: \"+str(training_records_sm))\n",
    "print(\"Total number of people who left before over-sampling: \"+str(n_left_sm))\n",
    "print(\"Total number of people who stayed before over_sampling: \"+str(training_records_sm-n_left_sm))"
   ]
  },
  {
   "cell_type": "code",
   "execution_count": 42,
   "metadata": {
    "collapsed": true
   },
   "outputs": [],
   "source": [
    "#now training feature ->  training_features_sm\n",
    "#training targets -> training_target_sm\n",
    "#testing feature -> testing features\n",
    "#tesing targets -> testing targets"
   ]
  },
  {
   "cell_type": "code",
   "execution_count": 71,
   "metadata": {},
   "outputs": [
    {
     "name": "stdout",
     "output_type": "stream",
     "text": [
      "Accuracy: 0.7606666666666667\n",
      "Precision: 0.5069444444444444\n",
      "Recall : 0.7956403269754768\n"
     ]
    }
   ],
   "source": [
    "#Logistic Regression\n",
    "logreg=LogisticRegression()\n",
    "logreg.fit(training_features_sm,training_target_sm)\n",
    "print(\"Accuracy: {}\".format(accuracy_score(testing_target,logreg.predict(testing_features))))\n",
    "print(\"Precision: {}\".format(precision_score(testing_target,logreg.predict(testing_features))))\n",
    "print(\"Recall : {}\".format(recall_score(testing_target,logreg.predict(testing_features))))"
   ]
  },
  {
   "cell_type": "code",
   "execution_count": 72,
   "metadata": {},
   "outputs": [
    {
     "name": "stdout",
     "output_type": "stream",
     "text": [
      "Accuracy: 0.9716666666666667\n",
      "Precision: 0.9513212795549374\n",
      "Recall : 0.9318801089918256\n"
     ]
    }
   ],
   "source": [
    "#deision tree\n",
    "dt=DecisionTreeClassifier(min_samples_split=10)\n",
    "dt.fit(training_features_sm,training_target_sm)\n",
    "print(\"Accuracy: {}\".format(accuracy_score(testing_target,dt.predict(testing_features))))\n",
    "print(\"Precision: {}\".format(precision_score(testing_target,dt.predict(testing_features))))\n",
    "print(\"Recall : {}\".format(recall_score(testing_target,dt.predict(testing_features))))"
   ]
  },
  {
   "cell_type": "code",
   "execution_count": 73,
   "metadata": {},
   "outputs": [
    {
     "name": "stdout",
     "output_type": "stream",
     "text": [
      "Accuracy: 0.982\n",
      "Precision: 0.9815864022662889\n",
      "Recall : 0.944141689373297\n"
     ]
    }
   ],
   "source": [
    "#random Forest Classifier\n",
    "rf=RandomForestClassifier()\n",
    "rf.fit(training_features_sm,training_target_sm)\n",
    "print(\"Accuracy: {}\".format(accuracy_score(testing_target,rf.predict(testing_features))))\n",
    "print(\"Precision: {}\".format(precision_score(testing_target,rf.predict(testing_features))))\n",
    "print(\"Recall : {}\".format(recall_score(testing_target,rf.predict(testing_features))))"
   ]
  },
  {
   "cell_type": "code",
   "execution_count": 62,
   "metadata": {
    "collapsed": true
   },
   "outputs": [],
   "source": [
    "training_features_cv,testing_features_cv,training_target_cv,testing_target_cv=train_test_split(features,target,test_size=.20)"
   ]
  },
  {
   "cell_type": "code",
   "execution_count": 81,
   "metadata": {},
   "outputs": [
    {
     "name": "stdout",
     "output_type": "stream",
     "text": [
      "Accuracy: 0.7916490898985689 with (+/- 0.014541925235590168)\n"
     ]
    }
   ],
   "source": [
    "#lets try performing k-fold cross validation\n",
    "cv_logreg=LogisticRegression()\n",
    "score_logreg=cross_val_score(cv_logreg,training_features_cv,training_target_cv,cv=5)\n",
    "print(\"Accuracy: {} with (+/- {})\".format(score.mean(),score.std() *2))"
   ]
  },
  {
   "cell_type": "code",
   "execution_count": 64,
   "metadata": {},
   "outputs": [
    {
     "name": "stdout",
     "output_type": "stream",
     "text": [
      "Accuracy: 0.9776649645685703 with (+/- 0.005362063529510396)\n"
     ]
    }
   ],
   "source": [
    "#lets try performing k-fold cross validation\n",
    "cv_dt=DecisionTreeClassifier()\n",
    "score_dt=cross_val_score(cv_dt,training_features_cv,training_target_cv,cv=5)\n",
    "print(\"Accuracy: {} with (+/- {})\".format(score.mean(),score.std() *2))"
   ]
  },
  {
   "cell_type": "code",
   "execution_count": 65,
   "metadata": {},
   "outputs": [
    {
     "name": "stdout",
     "output_type": "stream",
     "text": [
      "Accuracy: 0.9869986452688619 with (+/- 0.005014614988754522)\n"
     ]
    }
   ],
   "source": [
    "#lets try performing k-fold cross validation\n",
    "cv_rf=RandomForestClassifier()\n",
    "score_rf=cross_val_score(cv_rf,training_features_cv,training_target_cv,cv=5)\n",
    "print(\"Accuracy: {} with (+/- {})\".format(score.mean(),score.std() *2))"
   ]
  },
  {
   "cell_type": "code",
   "execution_count": 89,
   "metadata": {},
   "outputs": [
    {
     "name": "stdout",
     "output_type": "stream",
     "text": [
      "Accuracy: 0.7694433166196277 with (+/- 0.01636532892110572)\n"
     ]
    }
   ],
   "source": [
    "#features complete for CV\n",
    "cv_logreg=LogisticRegression()\n",
    "score_cv_logreg=cross_val_score(cv_logreg,features,target,cv=5)\n",
    "print(\"Accuracy: {} with (+/- {})\".format(score_cv_logreg.mean(),score.std() *2))"
   ]
  },
  {
   "cell_type": "code",
   "execution_count": 90,
   "metadata": {},
   "outputs": [
    {
     "name": "stdout",
     "output_type": "stream",
     "text": [
      "Accuracy: 0.9739991542665727 with (+/- 0.01636532892110572)\n"
     ]
    }
   ],
   "source": [
    "cv_dt=DecisionTreeClassifier()\n",
    "score_cv_dt=cross_val_score(cv_dt,features,target,cv=5)\n",
    "print(\"Accuracy: {} with (+/- {})\".format(score_cv_dt.mean(),score.std() *2))"
   ]
  },
  {
   "cell_type": "code",
   "execution_count": 107,
   "metadata": {},
   "outputs": [
    {
     "name": "stdout",
     "output_type": "stream",
     "text": [
      "Precision: 0.9891590539453802 with (+/- 0.016756138278373734)\n",
      "Recall: 0.9891329552518098 with (+/- 0.016163253558312773)\n",
      "Accuracy: 0.9882662441406938 with (+/- 0.01826368182001118)\n"
     ]
    }
   ],
   "source": [
    "cv_rf=RandomForestClassifier()\n",
    "score_cv_rf_p=cross_val_score(cv_rf,features,target,cv=5,scoring='precision_weighted')\n",
    "print(\"Precision: {} with (+/- {})\".format(score_cv_rf_p.mean(),score_cv_rf_p.std() *2))\n",
    "score_cv_rf_r=cross_val_score(cv_rf,features,target,cv=5,scoring='recall_weighted')\n",
    "print(\"Recall: {} with (+/- {})\".format(score_cv_rf_r.mean(),score_cv_rf_r.std() *2))\n",
    "score_cv_rf=cross_val_score(cv_rf,features,target,cv=5)\n",
    "print(\"Accuracy: {} with (+/- {})\".format(score_cv_rf.mean(),score_cv_rf.std() *2))"
   ]
  },
  {
   "cell_type": "code",
   "execution_count": 111,
   "metadata": {},
   "outputs": [
    {
     "data": {
      "text/plain": [
       "<matplotlib.axes._subplots.AxesSubplot at 0x14333ad8080>"
      ]
     },
     "execution_count": 111,
     "metadata": {},
     "output_type": "execute_result"
    },
    {
     "data": {
      "image/png": "[encoded data removed]",
      "text/plain": [
       "<matplotlib.figure.Figure at 0x14333ad8390>"
      ]
     },
     "metadata": {},
     "output_type": "display_data"
    }
   ],
   "source": [
    "score=[]\n",
    "score.append(score_cv_rf)\n",
    "score.append(score_cv_rf_p)\n",
    "score.append(score_cv_rf_r)\n",
    "value=[]\n",
    "value.append('Accuracy')\n",
    "value.append('Precision')\n",
    "value.append('recall')\n",
    "plt.figure(figsize=(10,10))\n",
    "sea.boxplot(y=score,x=value)"
   ]
  },
  {
   "cell_type": "code",
   "execution_count": null,
   "metadata": {
    "collapsed": true
   },
   "outputs": [],
   "source": []
  }
 ],
 "metadata": {
  "kernelspec": {
   "display_name": "Python [conda root]",
   "language": "python",
   "name": "conda-root-py"
  },
  "language_info": {
   "codemirror_mode": {
    "name": "ipython",
    "version": 3
   },
   "file_extension": ".py",
   "mimetype": "text/x-python",
   "name": "python",
   "nbconvert_exporter": "python",
   "pygments_lexer": "ipython3",
   "version": "3.5.2"
  }
 },
 "nbformat": 4,
 "nbformat_minor": 2
}
